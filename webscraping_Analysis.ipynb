{
  "nbformat": 4,
  "nbformat_minor": 0,
  "metadata": {
    "colab": {
      "name": "webscraping_Analysis.ipynb",
      "provenance": [],
      "collapsed_sections": [],
      "include_colab_link": true
    },
    "kernelspec": {
      "name": "python3",
      "display_name": "Python 3"
    },
    "language_info": {
      "name": "python"
    }
  },
  "cells": [
    {
      "cell_type": "markdown",
      "metadata": {
        "id": "view-in-github",
        "colab_type": "text"
      },
      "source": [
        "<a href=\"https://colab.research.google.com/github/krishnaaxo/Web_Scraping_Sentiment_Analysis/blob/main/webscraping_Analysis.ipynb\" target=\"_parent\"><img src=\"https://colab.research.google.com/assets/colab-badge.svg\" alt=\"Open In Colab\"/></a>"
      ]
    },
    {
      "cell_type": "markdown",
      "metadata": {
        "id": "7s5trXLE9aoE"
      },
      "source": [
        "# **Stock fenviz articles data** \n"
      ]
    },
    {
      "cell_type": "code",
      "metadata": {
        "id": "0r4DMoas4npG"
      },
      "source": [
        "from urllib.request import urlopen,Request\n",
        "from bs4 import BeautifulSoup\n"
      ],
      "execution_count": null,
      "outputs": []
    },
    {
      "cell_type": "markdown",
      "metadata": {
        "id": "b41BFoeXBxs8"
      },
      "source": [
        "extract the url from the page and also the 'Tickers' \n"
      ]
    },
    {
      "cell_type": "code",
      "metadata": {
        "id": "5QYq77WQ9aI6"
      },
      "source": [
        "finviz_url='https://finviz.com/quote.ashx?t='\n",
        "markets=['AMZN','TSLA','FB','NFLX','GOOGL','AAPL','MSFT']"
      ],
      "execution_count": null,
      "outputs": []
    },
    {
      "cell_type": "markdown",
      "metadata": {
        "id": "5zfpXid-CpL6"
      },
      "source": [
        "now you have to request the data from the url using the modules imported later"
      ]
    },
    {
      "cell_type": "code",
      "metadata": {
        "id": "Ltt-3Y6ICI09"
      },
      "source": [
        "news_tables={}\n",
        "\n",
        "\n",
        "for market in markets:\n",
        "  url=finviz_url+market\n",
        "\n",
        "  req=Request(url=url,headers={'user-agent':'my-app'})\n",
        "  reponse=urlopen(req)\n",
        "  \n",
        "  html=BeautifulSoup(reponse,'html')\n",
        "  news_table=html.find(id=\"news-table\")\n",
        "  news_tables[market]=news_table"
      ],
      "execution_count": null,
      "outputs": []
    },
    {
      "cell_type": "markdown",
      "metadata": {
        "id": "cghHS1h3GMGn"
      },
      "source": [
        "# ***Manipulating Finviz Data***\n"
      ]
    },
    {
      "cell_type": "markdown",
      "metadata": {
        "id": "h6AqHOBRJDG5"
      },
      "source": [
        "\n",
        "obtain the title and the date of each article for a specific market, to obtain the data concerning AMZN for example we do as follows:"
      ]
    },
    {
      "cell_type": "code",
      "metadata": {
        "id": "RKuVLjhPHL0G",
        "colab": {
          "base_uri": "https://localhost:8080/",
          "height": 35
        },
        "outputId": "d1b74874-c28a-4f1e-b331-ce07f9772347"
      },
      "source": [
        "'''\n",
        "AMZN_data=news_tables['AMZN']\n",
        "\n",
        "AMZN_rows=AMZN_data.findall('tr')\n",
        "\n",
        "for index,row in enume(rateAMZN_rows):\n",
        "\n",
        "  title=row.a.text\n",
        "  date=row.td.text\n",
        "\n",
        "\n",
        "  '''\n"
      ],
      "execution_count": null,
      "outputs": [
        {
          "output_type": "execute_result",
          "data": {
            "application/vnd.google.colaboratory.intrinsic+json": {
              "type": "string"
            },
            "text/plain": [
              "\"\\nAMZN_data=news_tables['AMZN']\\n\\nAMZN_rows=AMZN_data.findall('tr')\\n\\nfor index,row in enume(rateAMZN_rows):\\n\\n  title=row.a.text\\n  date=row.td.text\\n\\n\\n  \""
            ]
          },
          "metadata": {
            "tags": []
          },
          "execution_count": 4
        }
      ]
    },
    {
      "cell_type": "markdown",
      "metadata": {
        "id": "U4Pyzn51K3NF"
      },
      "source": [
        "\n",
        "now we build a general function to automate this:"
      ]
    },
    {
      "cell_type": "code",
      "metadata": {
        "id": "FPLyBOdzHL63"
      },
      "source": [
        "parsed_data=[]\n",
        "for market,news_table in news_tables.items():\n",
        "\n",
        "  for row in news_table.findAll('tr'):\n",
        "    title=row.a.text\n",
        "    date_data=row.td.text.split(' ')\n",
        "\n",
        "    if len(date_data)==1:\n",
        "      time=date_data[0]\n",
        "\n",
        "    else:\n",
        "      time=date_data[1]\n",
        "      date=date_data[0]\n",
        "    parsed_data.append([market,date,time,title])\n",
        "    \n"
      ],
      "execution_count": null,
      "outputs": []
    },
    {
      "cell_type": "markdown",
      "metadata": {
        "id": "iwR2ZWFwOrG3"
      },
      "source": [
        "organization of the data extracted in a table"
      ]
    },
    {
      "cell_type": "code",
      "metadata": {
        "id": "qeSXC6LtO8gb"
      },
      "source": [
        "import pandas as pd\n",
        "import matplotlib.pyplot as plt"
      ],
      "execution_count": null,
      "outputs": []
    },
    {
      "cell_type": "code",
      "metadata": {
        "colab": {
          "base_uri": "https://localhost:8080/",
          "height": 419
        },
        "id": "nYNh4K3qHMAL",
        "outputId": "9c789ad9-ab72-4d24-9224-d2c254e82e46"
      },
      "source": [
        "df = pd.DataFrame(parsed_data, columns=['market', 'date', 'time', 'title'])\n",
        "df"
      ],
      "execution_count": null,
      "outputs": [
        {
          "output_type": "execute_result",
          "data": {
            "text/html": [
              "<div>\n",
              "<style scoped>\n",
              "    .dataframe tbody tr th:only-of-type {\n",
              "        vertical-align: middle;\n",
              "    }\n",
              "\n",
              "    .dataframe tbody tr th {\n",
              "        vertical-align: top;\n",
              "    }\n",
              "\n",
              "    .dataframe thead th {\n",
              "        text-align: right;\n",
              "    }\n",
              "</style>\n",
              "<table border=\"1\" class=\"dataframe\">\n",
              "  <thead>\n",
              "    <tr style=\"text-align: right;\">\n",
              "      <th></th>\n",
              "      <th>market</th>\n",
              "      <th>date</th>\n",
              "      <th>time</th>\n",
              "      <th>title</th>\n",
              "    </tr>\n",
              "  </thead>\n",
              "  <tbody>\n",
              "    <tr>\n",
              "      <th>0</th>\n",
              "      <td>AMZN</td>\n",
              "      <td>May-21-21</td>\n",
              "      <td>02:37PM</td>\n",
              "      <td>Same-day delivery from local stores instead of...</td>\n",
              "    </tr>\n",
              "    <tr>\n",
              "      <th>1</th>\n",
              "      <td>AMZN</td>\n",
              "      <td>May-21-21</td>\n",
              "      <td>01:18PM</td>\n",
              "      <td>GoodRx CEO dismisses Amazon threat: Customers ...</td>\n",
              "    </tr>\n",
              "    <tr>\n",
              "      <th>2</th>\n",
              "      <td>AMZN</td>\n",
              "      <td>May-21-21</td>\n",
              "      <td>11:09AM</td>\n",
              "      <td>These are the top stocks for hedge funds: Gold...</td>\n",
              "    </tr>\n",
              "    <tr>\n",
              "      <th>3</th>\n",
              "      <td>AMZN</td>\n",
              "      <td>May-21-21</td>\n",
              "      <td>11:05AM</td>\n",
              "      <td>Exec: Expect more streaming deals after 'shock...</td>\n",
              "    </tr>\n",
              "    <tr>\n",
              "      <th>4</th>\n",
              "      <td>AMZN</td>\n",
              "      <td>May-21-21</td>\n",
              "      <td>10:22AM</td>\n",
              "      <td>Checking In on Casper Sleep, Yeti, and Domino'...</td>\n",
              "    </tr>\n",
              "    <tr>\n",
              "      <th>...</th>\n",
              "      <td>...</td>\n",
              "      <td>...</td>\n",
              "      <td>...</td>\n",
              "      <td>...</td>\n",
              "    </tr>\n",
              "    <tr>\n",
              "      <th>695</th>\n",
              "      <td>MSFT</td>\n",
              "      <td>May-13-21</td>\n",
              "      <td>07:00AM</td>\n",
              "      <td>Investing in high growth stocks in the U.S. an...</td>\n",
              "    </tr>\n",
              "    <tr>\n",
              "      <th>696</th>\n",
              "      <td>MSFT</td>\n",
              "      <td>May-13-21</td>\n",
              "      <td>06:00AM</td>\n",
              "      <td>Twitter Picks Up Acquisition Pace, Driven by N...</td>\n",
              "    </tr>\n",
              "    <tr>\n",
              "      <th>697</th>\n",
              "      <td>MSFT</td>\n",
              "      <td>May-12-21</td>\n",
              "      <td>10:27PM</td>\n",
              "      <td>SoftBank Tumbles After Record Profit Fails to ...</td>\n",
              "    </tr>\n",
              "    <tr>\n",
              "      <th>698</th>\n",
              "      <td>MSFT</td>\n",
              "      <td>May-12-21</td>\n",
              "      <td>09:04PM</td>\n",
              "      <td>Biden Signs Order to Boost Cybersecurity After...</td>\n",
              "    </tr>\n",
              "    <tr>\n",
              "      <th>699</th>\n",
              "      <td>MSFT</td>\n",
              "      <td>May-12-21</td>\n",
              "      <td>06:19PM</td>\n",
              "      <td>Apple-Epic Judge Hints at Compromise in Feud O...</td>\n",
              "    </tr>\n",
              "  </tbody>\n",
              "</table>\n",
              "<p>700 rows × 4 columns</p>\n",
              "</div>"
            ],
            "text/plain": [
              "    market  ...                                              title\n",
              "0     AMZN  ...  Same-day delivery from local stores instead of...\n",
              "1     AMZN  ...  GoodRx CEO dismisses Amazon threat: Customers ...\n",
              "2     AMZN  ...  These are the top stocks for hedge funds: Gold...\n",
              "3     AMZN  ...  Exec: Expect more streaming deals after 'shock...\n",
              "4     AMZN  ...  Checking In on Casper Sleep, Yeti, and Domino'...\n",
              "..     ...  ...                                                ...\n",
              "695   MSFT  ...  Investing in high growth stocks in the U.S. an...\n",
              "696   MSFT  ...  Twitter Picks Up Acquisition Pace, Driven by N...\n",
              "697   MSFT  ...  SoftBank Tumbles After Record Profit Fails to ...\n",
              "698   MSFT  ...  Biden Signs Order to Boost Cybersecurity After...\n",
              "699   MSFT  ...  Apple-Epic Judge Hints at Compromise in Feud O...\n",
              "\n",
              "[700 rows x 4 columns]"
            ]
          },
          "metadata": {
            "tags": []
          },
          "execution_count": 7
        }
      ]
    },
    {
      "cell_type": "markdown",
      "metadata": {
        "id": "LQcK6MLiPdIU"
      },
      "source": [
        "# ***3-Applying Sentiment Analysis***\n",
        "\n"
      ]
    },
    {
      "cell_type": "markdown",
      "metadata": {
        "id": "WD6uLbtdSV0m"
      },
      "source": [
        "\n",
        "Now is the time to perform sentiment analysis with nltk.sentiment.vader:"
      ]
    },
    {
      "cell_type": "code",
      "metadata": {
        "id": "sEJIkcUmQdqg",
        "colab": {
          "base_uri": "https://localhost:8080/"
        },
        "outputId": "853b5d00-03a5-4ee0-be14-cae88078bd1b"
      },
      "source": [
        "from nltk.sentiment.vader import SentimentIntensityAnalyzer"
      ],
      "execution_count": null,
      "outputs": [
        {
          "output_type": "stream",
          "text": [
            "/usr/local/lib/python3.7/dist-packages/nltk/twitter/__init__.py:20: UserWarning: The twython library has not been installed. Some functionality from the twitter package will not be available.\n",
            "  warnings.warn(\"The twython library has not been installed. \"\n"
          ],
          "name": "stderr"
        }
      ]
    },
    {
      "cell_type": "code",
      "metadata": {
        "colab": {
          "base_uri": "https://localhost:8080/"
        },
        "id": "dvNU0d5NHMKU",
        "outputId": "6f6254ff-c4f1-4ee2-caa8-603e739573d9"
      },
      "source": [
        "import nltk\n",
        "nltk.download('vader_lexicon')\n",
        "vader = SentimentIntensityAnalyzer()"
      ],
      "execution_count": null,
      "outputs": [
        {
          "output_type": "stream",
          "text": [
            "[nltk_data] Downloading package vader_lexicon to /root/nltk_data...\n"
          ],
          "name": "stdout"
        }
      ]
    },
    {
      "cell_type": "code",
      "metadata": {
        "id": "CkOWYSJNQhsP"
      },
      "source": [
        "f = lambda title: vader.polarity_scores(title)['compound']\n",
        "df['compound'] = df['title'].apply(f)"
      ],
      "execution_count": null,
      "outputs": []
    },
    {
      "cell_type": "code",
      "metadata": {
        "colab": {
          "base_uri": "https://localhost:8080/",
          "height": 419
        },
        "id": "Twbpj5nCQh4d",
        "outputId": "81df39d1-bdfa-4bf9-dc1b-f90ac67e55cf"
      },
      "source": [
        "df"
      ],
      "execution_count": null,
      "outputs": [
        {
          "output_type": "execute_result",
          "data": {
            "text/html": [
              "<div>\n",
              "<style scoped>\n",
              "    .dataframe tbody tr th:only-of-type {\n",
              "        vertical-align: middle;\n",
              "    }\n",
              "\n",
              "    .dataframe tbody tr th {\n",
              "        vertical-align: top;\n",
              "    }\n",
              "\n",
              "    .dataframe thead th {\n",
              "        text-align: right;\n",
              "    }\n",
              "</style>\n",
              "<table border=\"1\" class=\"dataframe\">\n",
              "  <thead>\n",
              "    <tr style=\"text-align: right;\">\n",
              "      <th></th>\n",
              "      <th>market</th>\n",
              "      <th>date</th>\n",
              "      <th>time</th>\n",
              "      <th>title</th>\n",
              "      <th>compound</th>\n",
              "    </tr>\n",
              "  </thead>\n",
              "  <tbody>\n",
              "    <tr>\n",
              "      <th>0</th>\n",
              "      <td>AMZN</td>\n",
              "      <td>May-21-21</td>\n",
              "      <td>02:37PM</td>\n",
              "      <td>Same-day delivery from local stores instead of...</td>\n",
              "      <td>0.1779</td>\n",
              "    </tr>\n",
              "    <tr>\n",
              "      <th>1</th>\n",
              "      <td>AMZN</td>\n",
              "      <td>May-21-21</td>\n",
              "      <td>01:18PM</td>\n",
              "      <td>GoodRx CEO dismisses Amazon threat: Customers ...</td>\n",
              "      <td>0.3612</td>\n",
              "    </tr>\n",
              "    <tr>\n",
              "      <th>2</th>\n",
              "      <td>AMZN</td>\n",
              "      <td>May-21-21</td>\n",
              "      <td>11:09AM</td>\n",
              "      <td>These are the top stocks for hedge funds: Gold...</td>\n",
              "      <td>0.2023</td>\n",
              "    </tr>\n",
              "    <tr>\n",
              "      <th>3</th>\n",
              "      <td>AMZN</td>\n",
              "      <td>May-21-21</td>\n",
              "      <td>11:05AM</td>\n",
              "      <td>Exec: Expect more streaming deals after 'shock...</td>\n",
              "      <td>0.0000</td>\n",
              "    </tr>\n",
              "    <tr>\n",
              "      <th>4</th>\n",
              "      <td>AMZN</td>\n",
              "      <td>May-21-21</td>\n",
              "      <td>10:22AM</td>\n",
              "      <td>Checking In on Casper Sleep, Yeti, and Domino'...</td>\n",
              "      <td>0.0000</td>\n",
              "    </tr>\n",
              "    <tr>\n",
              "      <th>...</th>\n",
              "      <td>...</td>\n",
              "      <td>...</td>\n",
              "      <td>...</td>\n",
              "      <td>...</td>\n",
              "      <td>...</td>\n",
              "    </tr>\n",
              "    <tr>\n",
              "      <th>695</th>\n",
              "      <td>MSFT</td>\n",
              "      <td>May-13-21</td>\n",
              "      <td>07:00AM</td>\n",
              "      <td>Investing in high growth stocks in the U.S. an...</td>\n",
              "      <td>0.0516</td>\n",
              "    </tr>\n",
              "    <tr>\n",
              "      <th>696</th>\n",
              "      <td>MSFT</td>\n",
              "      <td>May-13-21</td>\n",
              "      <td>06:00AM</td>\n",
              "      <td>Twitter Picks Up Acquisition Pace, Driven by N...</td>\n",
              "      <td>0.0000</td>\n",
              "    </tr>\n",
              "    <tr>\n",
              "      <th>697</th>\n",
              "      <td>MSFT</td>\n",
              "      <td>May-12-21</td>\n",
              "      <td>10:27PM</td>\n",
              "      <td>SoftBank Tumbles After Record Profit Fails to ...</td>\n",
              "      <td>0.4588</td>\n",
              "    </tr>\n",
              "    <tr>\n",
              "      <th>698</th>\n",
              "      <td>MSFT</td>\n",
              "      <td>May-12-21</td>\n",
              "      <td>09:04PM</td>\n",
              "      <td>Biden Signs Order to Boost Cybersecurity After...</td>\n",
              "      <td>0.4019</td>\n",
              "    </tr>\n",
              "    <tr>\n",
              "      <th>699</th>\n",
              "      <td>MSFT</td>\n",
              "      <td>May-12-21</td>\n",
              "      <td>06:19PM</td>\n",
              "      <td>Apple-Epic Judge Hints at Compromise in Feud O...</td>\n",
              "      <td>-0.3400</td>\n",
              "    </tr>\n",
              "  </tbody>\n",
              "</table>\n",
              "<p>700 rows × 5 columns</p>\n",
              "</div>"
            ],
            "text/plain": [
              "    market  ... compound\n",
              "0     AMZN  ...   0.1779\n",
              "1     AMZN  ...   0.3612\n",
              "2     AMZN  ...   0.2023\n",
              "3     AMZN  ...   0.0000\n",
              "4     AMZN  ...   0.0000\n",
              "..     ...  ...      ...\n",
              "695   MSFT  ...   0.0516\n",
              "696   MSFT  ...   0.0000\n",
              "697   MSFT  ...   0.4588\n",
              "698   MSFT  ...   0.4019\n",
              "699   MSFT  ...  -0.3400\n",
              "\n",
              "[700 rows x 5 columns]"
            ]
          },
          "metadata": {
            "tags": []
          },
          "execution_count": 11
        }
      ]
    },
    {
      "cell_type": "code",
      "metadata": {
        "colab": {
          "base_uri": "https://localhost:8080/",
          "height": 419
        },
        "id": "3LjOAEcwQh81",
        "outputId": "9af191ce-b13a-445a-9d4e-b7ae8d1fcb18"
      },
      "source": [
        "df['date'] = pd.to_datetime(df.date).dt.date\n",
        "df"
      ],
      "execution_count": null,
      "outputs": [
        {
          "output_type": "execute_result",
          "data": {
            "text/html": [
              "<div>\n",
              "<style scoped>\n",
              "    .dataframe tbody tr th:only-of-type {\n",
              "        vertical-align: middle;\n",
              "    }\n",
              "\n",
              "    .dataframe tbody tr th {\n",
              "        vertical-align: top;\n",
              "    }\n",
              "\n",
              "    .dataframe thead th {\n",
              "        text-align: right;\n",
              "    }\n",
              "</style>\n",
              "<table border=\"1\" class=\"dataframe\">\n",
              "  <thead>\n",
              "    <tr style=\"text-align: right;\">\n",
              "      <th></th>\n",
              "      <th>market</th>\n",
              "      <th>date</th>\n",
              "      <th>time</th>\n",
              "      <th>title</th>\n",
              "      <th>compound</th>\n",
              "    </tr>\n",
              "  </thead>\n",
              "  <tbody>\n",
              "    <tr>\n",
              "      <th>0</th>\n",
              "      <td>AMZN</td>\n",
              "      <td>2021-05-21</td>\n",
              "      <td>02:37PM</td>\n",
              "      <td>Same-day delivery from local stores instead of...</td>\n",
              "      <td>0.1779</td>\n",
              "    </tr>\n",
              "    <tr>\n",
              "      <th>1</th>\n",
              "      <td>AMZN</td>\n",
              "      <td>2021-05-21</td>\n",
              "      <td>01:18PM</td>\n",
              "      <td>GoodRx CEO dismisses Amazon threat: Customers ...</td>\n",
              "      <td>0.3612</td>\n",
              "    </tr>\n",
              "    <tr>\n",
              "      <th>2</th>\n",
              "      <td>AMZN</td>\n",
              "      <td>2021-05-21</td>\n",
              "      <td>11:09AM</td>\n",
              "      <td>These are the top stocks for hedge funds: Gold...</td>\n",
              "      <td>0.2023</td>\n",
              "    </tr>\n",
              "    <tr>\n",
              "      <th>3</th>\n",
              "      <td>AMZN</td>\n",
              "      <td>2021-05-21</td>\n",
              "      <td>11:05AM</td>\n",
              "      <td>Exec: Expect more streaming deals after 'shock...</td>\n",
              "      <td>0.0000</td>\n",
              "    </tr>\n",
              "    <tr>\n",
              "      <th>4</th>\n",
              "      <td>AMZN</td>\n",
              "      <td>2021-05-21</td>\n",
              "      <td>10:22AM</td>\n",
              "      <td>Checking In on Casper Sleep, Yeti, and Domino'...</td>\n",
              "      <td>0.0000</td>\n",
              "    </tr>\n",
              "    <tr>\n",
              "      <th>...</th>\n",
              "      <td>...</td>\n",
              "      <td>...</td>\n",
              "      <td>...</td>\n",
              "      <td>...</td>\n",
              "      <td>...</td>\n",
              "    </tr>\n",
              "    <tr>\n",
              "      <th>695</th>\n",
              "      <td>MSFT</td>\n",
              "      <td>2021-05-13</td>\n",
              "      <td>07:00AM</td>\n",
              "      <td>Investing in high growth stocks in the U.S. an...</td>\n",
              "      <td>0.0516</td>\n",
              "    </tr>\n",
              "    <tr>\n",
              "      <th>696</th>\n",
              "      <td>MSFT</td>\n",
              "      <td>2021-05-13</td>\n",
              "      <td>06:00AM</td>\n",
              "      <td>Twitter Picks Up Acquisition Pace, Driven by N...</td>\n",
              "      <td>0.0000</td>\n",
              "    </tr>\n",
              "    <tr>\n",
              "      <th>697</th>\n",
              "      <td>MSFT</td>\n",
              "      <td>2021-05-12</td>\n",
              "      <td>10:27PM</td>\n",
              "      <td>SoftBank Tumbles After Record Profit Fails to ...</td>\n",
              "      <td>0.4588</td>\n",
              "    </tr>\n",
              "    <tr>\n",
              "      <th>698</th>\n",
              "      <td>MSFT</td>\n",
              "      <td>2021-05-12</td>\n",
              "      <td>09:04PM</td>\n",
              "      <td>Biden Signs Order to Boost Cybersecurity After...</td>\n",
              "      <td>0.4019</td>\n",
              "    </tr>\n",
              "    <tr>\n",
              "      <th>699</th>\n",
              "      <td>MSFT</td>\n",
              "      <td>2021-05-12</td>\n",
              "      <td>06:19PM</td>\n",
              "      <td>Apple-Epic Judge Hints at Compromise in Feud O...</td>\n",
              "      <td>-0.3400</td>\n",
              "    </tr>\n",
              "  </tbody>\n",
              "</table>\n",
              "<p>700 rows × 5 columns</p>\n",
              "</div>"
            ],
            "text/plain": [
              "    market  ... compound\n",
              "0     AMZN  ...   0.1779\n",
              "1     AMZN  ...   0.3612\n",
              "2     AMZN  ...   0.2023\n",
              "3     AMZN  ...   0.0000\n",
              "4     AMZN  ...   0.0000\n",
              "..     ...  ...      ...\n",
              "695   MSFT  ...   0.0516\n",
              "696   MSFT  ...   0.0000\n",
              "697   MSFT  ...   0.4588\n",
              "698   MSFT  ...   0.4019\n",
              "699   MSFT  ...  -0.3400\n",
              "\n",
              "[700 rows x 5 columns]"
            ]
          },
          "metadata": {
            "tags": []
          },
          "execution_count": 12
        }
      ]
    },
    {
      "cell_type": "markdown",
      "metadata": {
        "id": "rFpvOxDnSuk1"
      },
      "source": [
        "# ***4-Visualization of Sentiment Analysis***\n",
        "\n",
        "\n",
        "\n"
      ]
    },
    {
      "cell_type": "markdown",
      "metadata": {
        "id": "tf-vXrp1TZ4Q"
      },
      "source": [
        "\n",
        "The following code takes the average sentiment scores for all the news headlines collected on each date and plots it on a 'bar chart'. we need the average scores for each day, to get the general feeling for a day."
      ]
    },
    {
      "cell_type": "code",
      "metadata": {
        "id": "GQEIX_bUUMYG"
      },
      "source": [
        "\n",
        "mean_df = df.groupby(['market', 'date']).mean()"
      ],
      "execution_count": null,
      "outputs": []
    },
    {
      "cell_type": "code",
      "metadata": {
        "colab": {
          "base_uri": "https://localhost:8080/",
          "height": 1000
        },
        "id": "QNErozEwUl0d",
        "outputId": "ad67b916-176b-48f8-b389-2f50310047cc"
      },
      "source": [
        "\n",
        "mean_df"
      ],
      "execution_count": null,
      "outputs": [
        {
          "output_type": "execute_result",
          "data": {
            "text/html": [
              "<div>\n",
              "<style scoped>\n",
              "    .dataframe tbody tr th:only-of-type {\n",
              "        vertical-align: middle;\n",
              "    }\n",
              "\n",
              "    .dataframe tbody tr th {\n",
              "        vertical-align: top;\n",
              "    }\n",
              "\n",
              "    .dataframe thead th {\n",
              "        text-align: right;\n",
              "    }\n",
              "</style>\n",
              "<table border=\"1\" class=\"dataframe\">\n",
              "  <thead>\n",
              "    <tr style=\"text-align: right;\">\n",
              "      <th></th>\n",
              "      <th></th>\n",
              "      <th>compound</th>\n",
              "    </tr>\n",
              "    <tr>\n",
              "      <th>market</th>\n",
              "      <th>date</th>\n",
              "      <th></th>\n",
              "    </tr>\n",
              "  </thead>\n",
              "  <tbody>\n",
              "    <tr>\n",
              "      <th rowspan=\"4\" valign=\"top\">AAPL</th>\n",
              "      <th>2021-05-18</th>\n",
              "      <td>0.063950</td>\n",
              "    </tr>\n",
              "    <tr>\n",
              "      <th>2021-05-19</th>\n",
              "      <td>0.118277</td>\n",
              "    </tr>\n",
              "    <tr>\n",
              "      <th>2021-05-20</th>\n",
              "      <td>0.144015</td>\n",
              "    </tr>\n",
              "    <tr>\n",
              "      <th>2021-05-21</th>\n",
              "      <td>0.085161</td>\n",
              "    </tr>\n",
              "    <tr>\n",
              "      <th rowspan=\"4\" valign=\"top\">AMZN</th>\n",
              "      <th>2021-05-18</th>\n",
              "      <td>0.086870</td>\n",
              "    </tr>\n",
              "    <tr>\n",
              "      <th>2021-05-19</th>\n",
              "      <td>0.120306</td>\n",
              "    </tr>\n",
              "    <tr>\n",
              "      <th>2021-05-20</th>\n",
              "      <td>0.132924</td>\n",
              "    </tr>\n",
              "    <tr>\n",
              "      <th>2021-05-21</th>\n",
              "      <td>0.174548</td>\n",
              "    </tr>\n",
              "    <tr>\n",
              "      <th rowspan=\"10\" valign=\"top\">FB</th>\n",
              "      <th>2021-05-12</th>\n",
              "      <td>0.117360</td>\n",
              "    </tr>\n",
              "    <tr>\n",
              "      <th>2021-05-13</th>\n",
              "      <td>0.290744</td>\n",
              "    </tr>\n",
              "    <tr>\n",
              "      <th>2021-05-14</th>\n",
              "      <td>-0.105620</td>\n",
              "    </tr>\n",
              "    <tr>\n",
              "      <th>2021-05-15</th>\n",
              "      <td>0.212300</td>\n",
              "    </tr>\n",
              "    <tr>\n",
              "      <th>2021-05-16</th>\n",
              "      <td>0.050500</td>\n",
              "    </tr>\n",
              "    <tr>\n",
              "      <th>2021-05-17</th>\n",
              "      <td>0.288200</td>\n",
              "    </tr>\n",
              "    <tr>\n",
              "      <th>2021-05-18</th>\n",
              "      <td>0.096629</td>\n",
              "    </tr>\n",
              "    <tr>\n",
              "      <th>2021-05-19</th>\n",
              "      <td>-0.053285</td>\n",
              "    </tr>\n",
              "    <tr>\n",
              "      <th>2021-05-20</th>\n",
              "      <td>-0.008667</td>\n",
              "    </tr>\n",
              "    <tr>\n",
              "      <th>2021-05-21</th>\n",
              "      <td>0.029444</td>\n",
              "    </tr>\n",
              "    <tr>\n",
              "      <th rowspan=\"5\" valign=\"top\">GOOGL</th>\n",
              "      <th>2021-05-17</th>\n",
              "      <td>0.149622</td>\n",
              "    </tr>\n",
              "    <tr>\n",
              "      <th>2021-05-18</th>\n",
              "      <td>0.041923</td>\n",
              "    </tr>\n",
              "    <tr>\n",
              "      <th>2021-05-19</th>\n",
              "      <td>0.122384</td>\n",
              "    </tr>\n",
              "    <tr>\n",
              "      <th>2021-05-20</th>\n",
              "      <td>0.177339</td>\n",
              "    </tr>\n",
              "    <tr>\n",
              "      <th>2021-05-21</th>\n",
              "      <td>0.178994</td>\n",
              "    </tr>\n",
              "    <tr>\n",
              "      <th rowspan=\"9\" valign=\"top\">MSFT</th>\n",
              "      <th>2021-05-12</th>\n",
              "      <td>0.173567</td>\n",
              "    </tr>\n",
              "    <tr>\n",
              "      <th>2021-05-13</th>\n",
              "      <td>0.032183</td>\n",
              "    </tr>\n",
              "    <tr>\n",
              "      <th>2021-05-14</th>\n",
              "      <td>0.150083</td>\n",
              "    </tr>\n",
              "    <tr>\n",
              "      <th>2021-05-16</th>\n",
              "      <td>0.208300</td>\n",
              "    </tr>\n",
              "    <tr>\n",
              "      <th>2021-05-17</th>\n",
              "      <td>0.225606</td>\n",
              "    </tr>\n",
              "    <tr>\n",
              "      <th>2021-05-18</th>\n",
              "      <td>0.243055</td>\n",
              "    </tr>\n",
              "    <tr>\n",
              "      <th>2021-05-19</th>\n",
              "      <td>0.030579</td>\n",
              "    </tr>\n",
              "    <tr>\n",
              "      <th>2021-05-20</th>\n",
              "      <td>-0.078129</td>\n",
              "    </tr>\n",
              "    <tr>\n",
              "      <th>2021-05-21</th>\n",
              "      <td>0.069462</td>\n",
              "    </tr>\n",
              "    <tr>\n",
              "      <th rowspan=\"9\" valign=\"top\">NFLX</th>\n",
              "      <th>2021-05-13</th>\n",
              "      <td>0.172250</td>\n",
              "    </tr>\n",
              "    <tr>\n",
              "      <th>2021-05-14</th>\n",
              "      <td>0.044843</td>\n",
              "    </tr>\n",
              "    <tr>\n",
              "      <th>2021-05-15</th>\n",
              "      <td>0.127267</td>\n",
              "    </tr>\n",
              "    <tr>\n",
              "      <th>2021-05-16</th>\n",
              "      <td>0.120050</td>\n",
              "    </tr>\n",
              "    <tr>\n",
              "      <th>2021-05-17</th>\n",
              "      <td>0.012853</td>\n",
              "    </tr>\n",
              "    <tr>\n",
              "      <th>2021-05-18</th>\n",
              "      <td>0.047636</td>\n",
              "    </tr>\n",
              "    <tr>\n",
              "      <th>2021-05-19</th>\n",
              "      <td>0.060979</td>\n",
              "    </tr>\n",
              "    <tr>\n",
              "      <th>2021-05-20</th>\n",
              "      <td>0.119815</td>\n",
              "    </tr>\n",
              "    <tr>\n",
              "      <th>2021-05-21</th>\n",
              "      <td>-0.040446</td>\n",
              "    </tr>\n",
              "    <tr>\n",
              "      <th rowspan=\"3\" valign=\"top\">TSLA</th>\n",
              "      <th>2021-05-19</th>\n",
              "      <td>-0.018377</td>\n",
              "    </tr>\n",
              "    <tr>\n",
              "      <th>2021-05-20</th>\n",
              "      <td>0.102474</td>\n",
              "    </tr>\n",
              "    <tr>\n",
              "      <th>2021-05-21</th>\n",
              "      <td>-0.003709</td>\n",
              "    </tr>\n",
              "  </tbody>\n",
              "</table>\n",
              "</div>"
            ],
            "text/plain": [
              "                   compound\n",
              "market date                \n",
              "AAPL   2021-05-18  0.063950\n",
              "       2021-05-19  0.118277\n",
              "       2021-05-20  0.144015\n",
              "       2021-05-21  0.085161\n",
              "AMZN   2021-05-18  0.086870\n",
              "       2021-05-19  0.120306\n",
              "       2021-05-20  0.132924\n",
              "       2021-05-21  0.174548\n",
              "FB     2021-05-12  0.117360\n",
              "       2021-05-13  0.290744\n",
              "       2021-05-14 -0.105620\n",
              "       2021-05-15  0.212300\n",
              "       2021-05-16  0.050500\n",
              "       2021-05-17  0.288200\n",
              "       2021-05-18  0.096629\n",
              "       2021-05-19 -0.053285\n",
              "       2021-05-20 -0.008667\n",
              "       2021-05-21  0.029444\n",
              "GOOGL  2021-05-17  0.149622\n",
              "       2021-05-18  0.041923\n",
              "       2021-05-19  0.122384\n",
              "       2021-05-20  0.177339\n",
              "       2021-05-21  0.178994\n",
              "MSFT   2021-05-12  0.173567\n",
              "       2021-05-13  0.032183\n",
              "       2021-05-14  0.150083\n",
              "       2021-05-16  0.208300\n",
              "       2021-05-17  0.225606\n",
              "       2021-05-18  0.243055\n",
              "       2021-05-19  0.030579\n",
              "       2021-05-20 -0.078129\n",
              "       2021-05-21  0.069462\n",
              "NFLX   2021-05-13  0.172250\n",
              "       2021-05-14  0.044843\n",
              "       2021-05-15  0.127267\n",
              "       2021-05-16  0.120050\n",
              "       2021-05-17  0.012853\n",
              "       2021-05-18  0.047636\n",
              "       2021-05-19  0.060979\n",
              "       2021-05-20  0.119815\n",
              "       2021-05-21 -0.040446\n",
              "TSLA   2021-05-19 -0.018377\n",
              "       2021-05-20  0.102474\n",
              "       2021-05-21 -0.003709"
            ]
          },
          "metadata": {
            "tags": []
          },
          "execution_count": 14
        }
      ]
    },
    {
      "cell_type": "code",
      "metadata": {
        "id": "PmCzW0ajXO8k"
      },
      "source": [
        "%matplotlib inline"
      ],
      "execution_count": null,
      "outputs": []
    },
    {
      "cell_type": "code",
      "metadata": {
        "colab": {
          "base_uri": "https://localhost:8080/",
          "height": 562
        },
        "id": "fZncK7VZYR1y",
        "outputId": "0ca02fb3-40ef-4b79-e330-09a8852f1bfb"
      },
      "source": [
        "\n",
        "mean_df = df.groupby(['market', 'date']).mean().unstack()\n",
        "mean_df = mean_df.xs('compound', axis=\"columns\").transpose()\n",
        "mean_df.plot(kind='bar',figsize=(20,8),width=1.5)"
      ],
      "execution_count": null,
      "outputs": [
        {
          "output_type": "execute_result",
          "data": {
            "text/plain": [
              "<matplotlib.axes._subplots.AxesSubplot at 0x7f8500838050>"
            ]
          },
          "metadata": {
            "tags": []
          },
          "execution_count": 17
        },
        {
          "output_type": "display_data",
          "data": {
            "image/png": "[encoded data removed]",
            "text/plain": [
              "<Figure size 1440x576 with 1 Axes>"
            ]
          },
          "metadata": {
            "tags": [],
            "needs_background": "light"
          }
        }
      ]
    },
    {
      "cell_type": "code",
      "metadata": {
        "colab": {
          "base_uri": "https://localhost:8080/",
          "height": 562
        },
        "id": "FkZRX8ctm7Ek",
        "outputId": "0705d80d-f8b5-4d06-b5af-07d479d31261"
      },
      "source": [
        "\n",
        "mean_df.plot(kind='bar',figsize=(20,8),width=1.5)\n",
        "plt.show()"
      ],
      "execution_count": null,
      "outputs": [
        {
          "output_type": "display_data",
          "data": {
            "text/plain": [
              "<Figure size 432x288 with 0 Axes>"
            ]
          },
          "metadata": {
            "tags": []
          }
        },
        {
          "output_type": "display_data",
          "data": {
            "image/png": "[encoded data removed]",
            "text/plain": [
              "<Figure size 1440x576 with 1 Axes>"
            ]
          },
          "metadata": {
            "tags": [],
            "needs_background": "light"
          }
        }
      ]
    },
    {
      "cell_type": "markdown",
      "metadata": {
        "id": "6WnY8gqIhga6"
      },
      "source": [
        "we can therefore see the evolution of the general feeling for a day"
      ]
    }
  ]
}